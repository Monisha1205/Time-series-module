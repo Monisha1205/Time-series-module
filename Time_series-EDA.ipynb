{
 "cells": [
  {
   "cell_type": "code",
   "execution_count": 1,
   "id": "02bfbe53",
   "metadata": {},
   "outputs": [],
   "source": [
    "#pip install yfinance"
   ]
  },
  {
   "cell_type": "code",
   "execution_count": 2,
   "id": "bb7c9e7e",
   "metadata": {},
   "outputs": [],
   "source": [
    "from Univariate import Univariate\n",
    "import pandas as pd"
   ]
  },
  {
   "cell_type": "code",
   "execution_count": 3,
   "id": "a0951f0a",
   "metadata": {},
   "outputs": [],
   "source": [
    "obj= Univariate()"
   ]
  },
  {
   "cell_type": "code",
   "execution_count": 4,
   "id": "3b4f2fd0",
   "metadata": {},
   "outputs": [
    {
     "name": "stderr",
     "output_type": "stream",
     "text": [
      "\r",
      "[*********************100%%**********************]  1 of 1 completed"
     ]
    },
    {
     "name": "stdout",
     "output_type": "stream",
     "text": [
      "                  Open        High         Low       Close   Adj Close  Volume\n",
      "Date                                                                          \n",
      "2023-01-02  219.000000  219.000000  216.000000  217.550003  214.703110   37358\n",
      "2023-01-03  229.300003  229.300003  218.000000  220.250000  217.367783   32832\n",
      "2023-01-04  220.000000  220.850006  217.000000  217.250000  214.407043   20925\n",
      "2023-01-05  217.550003  222.250000  217.500000  220.899994  218.009262   74212\n",
      "2023-01-06  218.399994  221.899994  217.550003  218.300003  215.443298   11228\n"
     ]
    },
    {
     "name": "stderr",
     "output_type": "stream",
     "text": [
      "\n"
     ]
    }
   ],
   "source": [
    "import yfinance as yf\n",
    "\n",
    "# Define the ticker symbol\n",
    "ticker_symbol = 'TATACOFFEE.BO' \n",
    "\n",
    "# Fetch historical data\n",
    "tatacoffee_data = yf.download(ticker_symbol, start='2023-01-01', end='2024-01-01')\n",
    "\n",
    "# Print the first few rows of the data\n",
    "print(tatacoffee_data.head())\n"
   ]
  },
  {
   "cell_type": "code",
   "execution_count": 5,
   "id": "85835c68",
   "metadata": {},
   "outputs": [
    {
     "name": "stdout",
     "output_type": "stream",
     "text": [
      "<class 'pandas.core.frame.DataFrame'>\n",
      "DatetimeIndex: 230 entries, 2023-01-02 to 2023-12-29\n",
      "Data columns (total 6 columns):\n",
      " #   Column     Non-Null Count  Dtype  \n",
      "---  ------     --------------  -----  \n",
      " 0   Open       230 non-null    float64\n",
      " 1   High       230 non-null    float64\n",
      " 2   Low        230 non-null    float64\n",
      " 3   Close      230 non-null    float64\n",
      " 4   Adj Close  230 non-null    float64\n",
      " 5   Volume     230 non-null    int64  \n",
      "dtypes: float64(5), int64(1)\n",
      "memory usage: 12.6 KB\n"
     ]
    }
   ],
   "source": [
    "tatacoffee_data.info()"
   ]
  },
  {
   "cell_type": "code",
   "execution_count": 6,
   "id": "58e47a04",
   "metadata": {},
   "outputs": [],
   "source": [
    "dataset=tatacoffee_data"
   ]
  },
  {
   "cell_type": "code",
   "execution_count": 14,
   "id": "91ebfa8f",
   "metadata": {},
   "outputs": [],
   "source": [
    "qual, quan = obj.Quanqual(dataset)"
   ]
  },
  {
   "cell_type": "code",
   "execution_count": 15,
   "id": "de968385",
   "metadata": {},
   "outputs": [
    {
     "data": {
      "text/plain": [
       "['Open', 'High', 'Low', 'Close', 'Adj Close', 'Volume']"
      ]
     },
     "execution_count": 15,
     "metadata": {},
     "output_type": "execute_result"
    }
   ],
   "source": [
    "quan"
   ]
  },
  {
   "cell_type": "code",
   "execution_count": 16,
   "id": "c90713f4",
   "metadata": {},
   "outputs": [
    {
     "data": {
      "text/plain": [
       "[]"
      ]
     },
     "execution_count": 16,
     "metadata": {},
     "output_type": "execute_result"
    }
   ],
   "source": [
    "qual"
   ]
  },
  {
   "cell_type": "code",
   "execution_count": 17,
   "id": "bf3c3ee4",
   "metadata": {},
   "outputs": [],
   "source": [
    "des_data = obj.Univariate(dataset, quan)"
   ]
  },
  {
   "cell_type": "code",
   "execution_count": 18,
   "id": "a644ef4f",
   "metadata": {},
   "outputs": [
    {
     "data": {
      "text/html": [
       "<div>\n",
       "<style scoped>\n",
       "    .dataframe tbody tr th:only-of-type {\n",
       "        vertical-align: middle;\n",
       "    }\n",
       "\n",
       "    .dataframe tbody tr th {\n",
       "        vertical-align: top;\n",
       "    }\n",
       "\n",
       "    .dataframe thead th {\n",
       "        text-align: right;\n",
       "    }\n",
       "</style>\n",
       "<table border=\"1\" class=\"dataframe\">\n",
       "  <thead>\n",
       "    <tr style=\"text-align: right;\">\n",
       "      <th></th>\n",
       "      <th>Open</th>\n",
       "      <th>High</th>\n",
       "      <th>Low</th>\n",
       "      <th>Close</th>\n",
       "      <th>Adj Close</th>\n",
       "      <th>Volume</th>\n",
       "    </tr>\n",
       "  </thead>\n",
       "  <tbody>\n",
       "    <tr>\n",
       "      <th>mean</th>\n",
       "      <td>239.68</td>\n",
       "      <td>242.326304</td>\n",
       "      <td>237.45413</td>\n",
       "      <td>239.800869</td>\n",
       "      <td>238.738493</td>\n",
       "      <td>39975.769565</td>\n",
       "    </tr>\n",
       "    <tr>\n",
       "      <th>median</th>\n",
       "      <td>244.0</td>\n",
       "      <td>247.099998</td>\n",
       "      <td>241.424995</td>\n",
       "      <td>244.075005</td>\n",
       "      <td>244.075005</td>\n",
       "      <td>26816.0</td>\n",
       "    </tr>\n",
       "    <tr>\n",
       "      <th>mode</th>\n",
       "      <td>211.0</td>\n",
       "      <td>249.949997</td>\n",
       "      <td>245.800003</td>\n",
       "      <td>208.899994</td>\n",
       "      <td>206.166306</td>\n",
       "      <td>4809</td>\n",
       "    </tr>\n",
       "    <tr>\n",
       "      <th>Q1:25th</th>\n",
       "      <td>215.087502</td>\n",
       "      <td>215.987499</td>\n",
       "      <td>212.037498</td>\n",
       "      <td>213.875004</td>\n",
       "      <td>211.076202</td>\n",
       "      <td>17119.0</td>\n",
       "    </tr>\n",
       "    <tr>\n",
       "      <th>Q2:50th</th>\n",
       "      <td>244.0</td>\n",
       "      <td>247.099998</td>\n",
       "      <td>241.424995</td>\n",
       "      <td>244.075005</td>\n",
       "      <td>244.075005</td>\n",
       "      <td>26816.0</td>\n",
       "    </tr>\n",
       "    <tr>\n",
       "      <th>Q3:75th</th>\n",
       "      <td>258.750008</td>\n",
       "      <td>261.787491</td>\n",
       "      <td>255.762501</td>\n",
       "      <td>258.637497</td>\n",
       "      <td>258.637497</td>\n",
       "      <td>46519.0</td>\n",
       "    </tr>\n",
       "    <tr>\n",
       "      <th>99th</th>\n",
       "      <td>300.48399</td>\n",
       "      <td>304.221505</td>\n",
       "      <td>299.645012</td>\n",
       "      <td>302.911004</td>\n",
       "      <td>302.911004</td>\n",
       "      <td>248800.05</td>\n",
       "    </tr>\n",
       "    <tr>\n",
       "      <th>Q4:100th</th>\n",
       "      <td>312.25</td>\n",
       "      <td>322.700012</td>\n",
       "      <td>311.0</td>\n",
       "      <td>320.899994</td>\n",
       "      <td>320.899994</td>\n",
       "      <td>516229</td>\n",
       "    </tr>\n",
       "    <tr>\n",
       "      <th>IQR</th>\n",
       "      <td>43.662506</td>\n",
       "      <td>45.799992</td>\n",
       "      <td>43.725002</td>\n",
       "      <td>44.762493</td>\n",
       "      <td>47.561295</td>\n",
       "      <td>29400.0</td>\n",
       "    </tr>\n",
       "    <tr>\n",
       "      <th>min</th>\n",
       "      <td>199.949997</td>\n",
       "      <td>202.699997</td>\n",
       "      <td>199.149994</td>\n",
       "      <td>199.949997</td>\n",
       "      <td>197.33342</td>\n",
       "      <td>4809</td>\n",
       "    </tr>\n",
       "    <tr>\n",
       "      <th>max</th>\n",
       "      <td>312.25</td>\n",
       "      <td>322.700012</td>\n",
       "      <td>311.0</td>\n",
       "      <td>320.899994</td>\n",
       "      <td>320.899994</td>\n",
       "      <td>516229</td>\n",
       "    </tr>\n",
       "    <tr>\n",
       "      <th>lower whisker</th>\n",
       "      <td>149.593742</td>\n",
       "      <td>147.287512</td>\n",
       "      <td>146.449995</td>\n",
       "      <td>146.731264</td>\n",
       "      <td>139.734261</td>\n",
       "      <td>-26981.0</td>\n",
       "    </tr>\n",
       "    <tr>\n",
       "      <th>upper whisker</th>\n",
       "      <td>324.243767</td>\n",
       "      <td>330.487478</td>\n",
       "      <td>321.350004</td>\n",
       "      <td>325.781237</td>\n",
       "      <td>329.979439</td>\n",
       "      <td>90619.0</td>\n",
       "    </tr>\n",
       "    <tr>\n",
       "      <th>skewness</th>\n",
       "      <td>0.32059</td>\n",
       "      <td>0.337862</td>\n",
       "      <td>0.357395</td>\n",
       "      <td>0.356025</td>\n",
       "      <td>0.298318</td>\n",
       "      <td>5.459613</td>\n",
       "    </tr>\n",
       "    <tr>\n",
       "      <th>kurtosis</th>\n",
       "      <td>-0.888211</td>\n",
       "      <td>-0.786493</td>\n",
       "      <td>-0.795595</td>\n",
       "      <td>-0.707237</td>\n",
       "      <td>-0.812515</td>\n",
       "      <td>41.970192</td>\n",
       "    </tr>\n",
       "    <tr>\n",
       "      <th>var</th>\n",
       "      <td>716.119273</td>\n",
       "      <td>729.872503</td>\n",
       "      <td>696.107722</td>\n",
       "      <td>711.545149</td>\n",
       "      <td>771.785928</td>\n",
       "      <td>2454883466.894266</td>\n",
       "    </tr>\n",
       "    <tr>\n",
       "      <th>std</th>\n",
       "      <td>26.760405</td>\n",
       "      <td>27.016153</td>\n",
       "      <td>26.383853</td>\n",
       "      <td>26.674804</td>\n",
       "      <td>27.781035</td>\n",
       "      <td>49546.780591</td>\n",
       "    </tr>\n",
       "  </tbody>\n",
       "</table>\n",
       "</div>"
      ],
      "text/plain": [
       "                     Open        High         Low       Close   Adj Close  \\\n",
       "mean               239.68  242.326304   237.45413  239.800869  238.738493   \n",
       "median              244.0  247.099998  241.424995  244.075005  244.075005   \n",
       "mode                211.0  249.949997  245.800003  208.899994  206.166306   \n",
       "Q1:25th        215.087502  215.987499  212.037498  213.875004  211.076202   \n",
       "Q2:50th             244.0  247.099998  241.424995  244.075005  244.075005   \n",
       "Q3:75th        258.750008  261.787491  255.762501  258.637497  258.637497   \n",
       "99th            300.48399  304.221505  299.645012  302.911004  302.911004   \n",
       "Q4:100th           312.25  322.700012       311.0  320.899994  320.899994   \n",
       "IQR             43.662506   45.799992   43.725002   44.762493   47.561295   \n",
       "min            199.949997  202.699997  199.149994  199.949997   197.33342   \n",
       "max                312.25  322.700012       311.0  320.899994  320.899994   \n",
       "lower whisker  149.593742  147.287512  146.449995  146.731264  139.734261   \n",
       "upper whisker  324.243767  330.487478  321.350004  325.781237  329.979439   \n",
       "skewness          0.32059    0.337862    0.357395    0.356025    0.298318   \n",
       "kurtosis        -0.888211   -0.786493   -0.795595   -0.707237   -0.812515   \n",
       "var            716.119273  729.872503  696.107722  711.545149  771.785928   \n",
       "std             26.760405   27.016153   26.383853   26.674804   27.781035   \n",
       "\n",
       "                          Volume  \n",
       "mean                39975.769565  \n",
       "median                   26816.0  \n",
       "mode                        4809  \n",
       "Q1:25th                  17119.0  \n",
       "Q2:50th                  26816.0  \n",
       "Q3:75th                  46519.0  \n",
       "99th                   248800.05  \n",
       "Q4:100th                  516229  \n",
       "IQR                      29400.0  \n",
       "min                         4809  \n",
       "max                       516229  \n",
       "lower whisker           -26981.0  \n",
       "upper whisker            90619.0  \n",
       "skewness                5.459613  \n",
       "kurtosis               41.970192  \n",
       "var            2454883466.894266  \n",
       "std                 49546.780591  "
      ]
     },
     "execution_count": 18,
     "metadata": {},
     "output_type": "execute_result"
    }
   ],
   "source": [
    "des_data"
   ]
  },
  {
   "cell_type": "code",
   "execution_count": 19,
   "id": "aa2c69bb",
   "metadata": {},
   "outputs": [
    {
     "data": {
      "text/plain": [
       "mean              237.45413\n",
       "median           241.424995\n",
       "mode             245.800003\n",
       "Q1:25th          212.037498\n",
       "Q2:50th          241.424995\n",
       "Q3:75th          255.762501\n",
       "99th             299.645012\n",
       "Q4:100th              311.0\n",
       "IQR               43.725002\n",
       "min              199.149994\n",
       "max                   311.0\n",
       "lower whisker    146.449995\n",
       "upper whisker    321.350004\n",
       "skewness           0.357395\n",
       "kurtosis          -0.795595\n",
       "var              696.107722\n",
       "std               26.383853\n",
       "Name: Low, dtype: object"
      ]
     },
     "execution_count": 19,
     "metadata": {},
     "output_type": "execute_result"
    }
   ],
   "source": [
    "des_data[\"Low\"]"
   ]
  },
  {
   "cell_type": "code",
   "execution_count": 20,
   "id": "d8a68913",
   "metadata": {},
   "outputs": [
    {
     "data": {
      "text/plain": [
       "mean             242.326304\n",
       "median           247.099998\n",
       "mode             249.949997\n",
       "Q1:25th          215.987499\n",
       "Q2:50th          247.099998\n",
       "Q3:75th          261.787491\n",
       "99th             304.221505\n",
       "Q4:100th         322.700012\n",
       "IQR               45.799992\n",
       "min              202.699997\n",
       "max              322.700012\n",
       "lower whisker    147.287512\n",
       "upper whisker    330.487478\n",
       "skewness           0.337862\n",
       "kurtosis          -0.786493\n",
       "var              729.872503\n",
       "std               27.016153\n",
       "Name: High, dtype: object"
      ]
     },
     "execution_count": 20,
     "metadata": {},
     "output_type": "execute_result"
    }
   ],
   "source": [
    "des_data['High']"
   ]
  },
  {
   "cell_type": "code",
   "execution_count": 21,
   "id": "7d5eeeda",
   "metadata": {},
   "outputs": [],
   "source": [
    "import numpy as np"
   ]
  },
  {
   "cell_type": "code",
   "execution_count": 22,
   "id": "2df7abc8",
   "metadata": {},
   "outputs": [
    {
     "data": {
      "text/plain": [
       "299.6450122070313"
      ]
     },
     "execution_count": 22,
     "metadata": {},
     "output_type": "execute_result"
    }
   ],
   "source": [
    "np.percentile(dataset[\"Low\"],99)"
   ]
  },
  {
   "cell_type": "code",
   "execution_count": 23,
   "id": "689b865a",
   "metadata": {},
   "outputs": [
    {
     "data": {
      "text/plain": [
       "265.5299987792969"
      ]
     },
     "execution_count": 23,
     "metadata": {},
     "output_type": "execute_result"
    }
   ],
   "source": [
    "np.percentile(dataset[\"High\"],80)"
   ]
  },
  {
   "cell_type": "code",
   "execution_count": 24,
   "id": "dc6a3db1",
   "metadata": {},
   "outputs": [],
   "source": [
    "def get_pdf_probability(dataset,startrange,endrange):\n",
    "    from matplotlib import pyplot\n",
    "    from scipy.stats import norm\n",
    "    import seaborn as sns\n",
    "    ax = sns.distplot(dataset,kde=True,kde_kws={'color':'blue'},color='Green')\n",
    "    pyplot.axvline(startrange,color='Red')\n",
    "    pyplot.axvline(endrange,color='Red')\n",
    "    # generate a sample\n",
    "    sample = dataset\n",
    "    # calculate parameters\n",
    "    sample_mean =sample.mean()\n",
    "    sample_std = sample.std()\n",
    "    print('Mean=%.3f, Standard Deviation=%.3f' % (sample_mean, sample_std))\n",
    "    # define the distribution\n",
    "    dist = norm(sample_mean, sample_std)\n",
    "    \n",
    "    # sample probabilities for a range of outcomes\n",
    "    values = [value for value in range(startrange, endrange)]\n",
    "    probabilities = [dist.pdf(value) for value in values]    \n",
    "    prob=sum(probabilities)\n",
    "    print(\"The area between range({},{}):{}\".format(startrange,endrange,sum(probabilities)))\n",
    "    return prob\n",
    "    "
   ]
  },
  {
   "cell_type": "code",
   "execution_count": 25,
   "id": "97208a0f",
   "metadata": {},
   "outputs": [
    {
     "name": "stderr",
     "output_type": "stream",
     "text": [
      "C:\\Users\\Admin\\anaconda3\\envs\\AIcoures\\lib\\site-packages\\ipykernel_launcher.py:5: UserWarning: \n",
      "\n",
      "`distplot` is a deprecated function and will be removed in seaborn v0.14.0.\n",
      "\n",
      "Please adapt your code to use either `displot` (a figure-level function with\n",
      "similar flexibility) or `histplot` (an axes-level function for histograms).\n",
      "\n",
      "For a guide to updating your code to use the new functions, please see\n",
      "https://gist.github.com/mwaskom/de44147ed2974457ad6372750bbe5751\n",
      "\n",
      "  \"\"\"\n"
     ]
    },
    {
     "name": "stdout",
     "output_type": "stream",
     "text": [
      "Mean=237.454, Standard Deviation=26.384\n",
      "The area between range(219,230):0.14527599615441636\n"
     ]
    },
    {
     "name": "stderr",
     "output_type": "stream",
     "text": [
      "C:\\Users\\Admin\\anaconda3\\envs\\AIcoures\\lib\\site-packages\\matplotlib\\cbook\\__init__.py:1402: FutureWarning: Support for multi-dimensional indexing (e.g. `obj[:, None]`) is deprecated and will be removed in a future version.  Convert to a numpy array before indexing instead.\n",
      "  x[:, None]\n",
      "C:\\Users\\Admin\\anaconda3\\envs\\AIcoures\\lib\\site-packages\\matplotlib\\axes\\_base.py:276: FutureWarning: Support for multi-dimensional indexing (e.g. `obj[:, None]`) is deprecated and will be removed in a future version.  Convert to a numpy array before indexing instead.\n",
      "  x = x[:, np.newaxis]\n",
      "C:\\Users\\Admin\\anaconda3\\envs\\AIcoures\\lib\\site-packages\\matplotlib\\axes\\_base.py:278: FutureWarning: Support for multi-dimensional indexing (e.g. `obj[:, None]`) is deprecated and will be removed in a future version.  Convert to a numpy array before indexing instead.\n",
      "  y = y[:, np.newaxis]\n"
     ]
    },
    {
     "data": {
      "text/plain": [
       "0.14527599615441636"
      ]
     },
     "execution_count": 25,
     "metadata": {},
     "output_type": "execute_result"
    },
    {
     "data": {
      "image/png": "[encoded data removed]",
      "text/plain": [
       "<Figure size 432x288 with 1 Axes>"
      ]
     },
     "metadata": {
      "needs_background": "light"
     },
     "output_type": "display_data"
    }
   ],
   "source": [
    "get_pdf_probability(dataset[\"Low\"],219,230)"
   ]
  },
  {
   "cell_type": "code",
   "execution_count": 26,
   "id": "db8a59d8",
   "metadata": {},
   "outputs": [],
   "source": [
    "def stdNBgraph(dataset):\n",
    "        # Coverted to standard Normal Distribution\n",
    "    import seaborn as sns\n",
    "    mean=dataset.mean()\n",
    "    std=dataset.std()\n",
    "\n",
    "    values=[i for i in dataset]\n",
    "\n",
    "    z_score=[((j-mean)/std) for j in values]\n",
    "\n",
    "    sns.distplot(z_score,kde=True)\n",
    "\n",
    "    sum(z_score)/len(z_score)\n",
    "    #z_score.std()"
   ]
  },
  {
   "cell_type": "code",
   "execution_count": 27,
   "id": "3fd14987",
   "metadata": {},
   "outputs": [
    {
     "name": "stderr",
     "output_type": "stream",
     "text": [
      "C:\\Users\\Admin\\anaconda3\\envs\\AIcoures\\lib\\site-packages\\ipykernel_launcher.py:11: UserWarning: \n",
      "\n",
      "`distplot` is a deprecated function and will be removed in seaborn v0.14.0.\n",
      "\n",
      "Please adapt your code to use either `displot` (a figure-level function with\n",
      "similar flexibility) or `histplot` (an axes-level function for histograms).\n",
      "\n",
      "For a guide to updating your code to use the new functions, please see\n",
      "https://gist.github.com/mwaskom/de44147ed2974457ad6372750bbe5751\n",
      "\n",
      "  # This is added back by InteractiveShellApp.init_path()\n",
      "C:\\Users\\Admin\\anaconda3\\envs\\AIcoures\\lib\\site-packages\\matplotlib\\cbook\\__init__.py:1402: FutureWarning: Support for multi-dimensional indexing (e.g. `obj[:, None]`) is deprecated and will be removed in a future version.  Convert to a numpy array before indexing instead.\n",
      "  x[:, None]\n",
      "C:\\Users\\Admin\\anaconda3\\envs\\AIcoures\\lib\\site-packages\\matplotlib\\axes\\_base.py:276: FutureWarning: Support for multi-dimensional indexing (e.g. `obj[:, None]`) is deprecated and will be removed in a future version.  Convert to a numpy array before indexing instead.\n",
      "  x = x[:, np.newaxis]\n",
      "C:\\Users\\Admin\\anaconda3\\envs\\AIcoures\\lib\\site-packages\\matplotlib\\axes\\_base.py:278: FutureWarning: Support for multi-dimensional indexing (e.g. `obj[:, None]`) is deprecated and will be removed in a future version.  Convert to a numpy array before indexing instead.\n",
      "  y = y[:, np.newaxis]\n"
     ]
    },
    {
     "data": {
      "image/png": "[encoded data removed]",
      "text/plain": [
       "<Figure size 432x288 with 1 Axes>"
      ]
     },
     "metadata": {
      "needs_background": "light"
     },
     "output_type": "display_data"
    }
   ],
   "source": [
    "stdNBgraph(dataset[\"Low\"])"
   ]
  },
  {
   "cell_type": "code",
   "execution_count": 28,
   "id": "edc97949",
   "metadata": {},
   "outputs": [],
   "source": [
    "def freqTable(columnName,dataset):\n",
    "    import pandas as pd\n",
    "    frq=pd.DataFrame()\n",
    "    frq[\"Unique_Values\"]=dataset[columnName].value_counts().index\n",
    "    frq[\"Frequency\"]=dataset[columnName].value_counts().values\n",
    "    frq[\"Relative_Fre\"]=dataset[columnName].value_counts().values/len(dataset[columnName])*100\n",
    "    frq[\"Cumulative\"]=frq[\"Relative_Fre\"].cumsum()\n",
    "    return frq"
   ]
  },
  {
   "cell_type": "code",
   "execution_count": 29,
   "id": "26da707d",
   "metadata": {},
   "outputs": [
    {
     "data": {
      "text/html": [
       "<div>\n",
       "<style scoped>\n",
       "    .dataframe tbody tr th:only-of-type {\n",
       "        vertical-align: middle;\n",
       "    }\n",
       "\n",
       "    .dataframe tbody tr th {\n",
       "        vertical-align: top;\n",
       "    }\n",
       "\n",
       "    .dataframe thead th {\n",
       "        text-align: right;\n",
       "    }\n",
       "</style>\n",
       "<table border=\"1\" class=\"dataframe\">\n",
       "  <thead>\n",
       "    <tr style=\"text-align: right;\">\n",
       "      <th></th>\n",
       "      <th>Unique_Values</th>\n",
       "      <th>Frequency</th>\n",
       "      <th>Relative_Fre</th>\n",
       "      <th>Cumulative</th>\n",
       "    </tr>\n",
       "  </thead>\n",
       "  <tbody>\n",
       "    <tr>\n",
       "      <th>0</th>\n",
       "      <td>245.800003</td>\n",
       "      <td>3</td>\n",
       "      <td>1.304348</td>\n",
       "      <td>1.304348</td>\n",
       "    </tr>\n",
       "    <tr>\n",
       "      <th>1</th>\n",
       "      <td>255.850006</td>\n",
       "      <td>2</td>\n",
       "      <td>0.869565</td>\n",
       "      <td>2.173913</td>\n",
       "    </tr>\n",
       "    <tr>\n",
       "      <th>2</th>\n",
       "      <td>255.000000</td>\n",
       "      <td>2</td>\n",
       "      <td>0.869565</td>\n",
       "      <td>3.043478</td>\n",
       "    </tr>\n",
       "    <tr>\n",
       "      <th>3</th>\n",
       "      <td>208.699997</td>\n",
       "      <td>2</td>\n",
       "      <td>0.869565</td>\n",
       "      <td>3.913043</td>\n",
       "    </tr>\n",
       "    <tr>\n",
       "      <th>4</th>\n",
       "      <td>206.050003</td>\n",
       "      <td>2</td>\n",
       "      <td>0.869565</td>\n",
       "      <td>4.782609</td>\n",
       "    </tr>\n",
       "    <tr>\n",
       "      <th>...</th>\n",
       "      <td>...</td>\n",
       "      <td>...</td>\n",
       "      <td>...</td>\n",
       "      <td>...</td>\n",
       "    </tr>\n",
       "    <tr>\n",
       "      <th>204</th>\n",
       "      <td>225.250000</td>\n",
       "      <td>1</td>\n",
       "      <td>0.434783</td>\n",
       "      <td>98.260870</td>\n",
       "    </tr>\n",
       "    <tr>\n",
       "      <th>205</th>\n",
       "      <td>228.300003</td>\n",
       "      <td>1</td>\n",
       "      <td>0.434783</td>\n",
       "      <td>98.695652</td>\n",
       "    </tr>\n",
       "    <tr>\n",
       "      <th>206</th>\n",
       "      <td>226.750000</td>\n",
       "      <td>1</td>\n",
       "      <td>0.434783</td>\n",
       "      <td>99.130435</td>\n",
       "    </tr>\n",
       "    <tr>\n",
       "      <th>207</th>\n",
       "      <td>224.250000</td>\n",
       "      <td>1</td>\n",
       "      <td>0.434783</td>\n",
       "      <td>99.565217</td>\n",
       "    </tr>\n",
       "    <tr>\n",
       "      <th>208</th>\n",
       "      <td>311.000000</td>\n",
       "      <td>1</td>\n",
       "      <td>0.434783</td>\n",
       "      <td>100.000000</td>\n",
       "    </tr>\n",
       "  </tbody>\n",
       "</table>\n",
       "<p>209 rows × 4 columns</p>\n",
       "</div>"
      ],
      "text/plain": [
       "     Unique_Values  Frequency  Relative_Fre  Cumulative\n",
       "0       245.800003          3      1.304348    1.304348\n",
       "1       255.850006          2      0.869565    2.173913\n",
       "2       255.000000          2      0.869565    3.043478\n",
       "3       208.699997          2      0.869565    3.913043\n",
       "4       206.050003          2      0.869565    4.782609\n",
       "..             ...        ...           ...         ...\n",
       "204     225.250000          1      0.434783   98.260870\n",
       "205     228.300003          1      0.434783   98.695652\n",
       "206     226.750000          1      0.434783   99.130435\n",
       "207     224.250000          1      0.434783   99.565217\n",
       "208     311.000000          1      0.434783  100.000000\n",
       "\n",
       "[209 rows x 4 columns]"
      ]
     },
     "execution_count": 29,
     "metadata": {},
     "output_type": "execute_result"
    }
   ],
   "source": [
    "freqTable(\"Low\",dataset)"
   ]
  },
  {
   "cell_type": "code",
   "execution_count": 30,
   "id": "d1ee16d5",
   "metadata": {},
   "outputs": [],
   "source": [
    "fh=freqTable(\"High\",dataset)"
   ]
  },
  {
   "cell_type": "code",
   "execution_count": 31,
   "id": "2aa24438",
   "metadata": {},
   "outputs": [
    {
     "data": {
      "text/html": [
       "<div>\n",
       "<style scoped>\n",
       "    .dataframe tbody tr th:only-of-type {\n",
       "        vertical-align: middle;\n",
       "    }\n",
       "\n",
       "    .dataframe tbody tr th {\n",
       "        vertical-align: top;\n",
       "    }\n",
       "\n",
       "    .dataframe thead th {\n",
       "        text-align: right;\n",
       "    }\n",
       "</style>\n",
       "<table border=\"1\" class=\"dataframe\">\n",
       "  <thead>\n",
       "    <tr style=\"text-align: right;\">\n",
       "      <th></th>\n",
       "      <th>Unique_Values</th>\n",
       "      <th>Frequency</th>\n",
       "      <th>Relative_Fre</th>\n",
       "      <th>Cumulative</th>\n",
       "    </tr>\n",
       "  </thead>\n",
       "  <tbody>\n",
       "    <tr>\n",
       "      <th>0</th>\n",
       "      <td>249.949997</td>\n",
       "      <td>4</td>\n",
       "      <td>1.739130</td>\n",
       "      <td>1.739130</td>\n",
       "    </tr>\n",
       "    <tr>\n",
       "      <th>1</th>\n",
       "      <td>247.949997</td>\n",
       "      <td>3</td>\n",
       "      <td>1.304348</td>\n",
       "      <td>3.043478</td>\n",
       "    </tr>\n",
       "    <tr>\n",
       "      <th>10</th>\n",
       "      <td>212.250000</td>\n",
       "      <td>2</td>\n",
       "      <td>0.869565</td>\n",
       "      <td>10.869565</td>\n",
       "    </tr>\n",
       "    <tr>\n",
       "      <th>17</th>\n",
       "      <td>253.899994</td>\n",
       "      <td>2</td>\n",
       "      <td>0.869565</td>\n",
       "      <td>16.956522</td>\n",
       "    </tr>\n",
       "    <tr>\n",
       "      <th>16</th>\n",
       "      <td>249.000000</td>\n",
       "      <td>2</td>\n",
       "      <td>0.869565</td>\n",
       "      <td>16.086957</td>\n",
       "    </tr>\n",
       "    <tr>\n",
       "      <th>...</th>\n",
       "      <td>...</td>\n",
       "      <td>...</td>\n",
       "      <td>...</td>\n",
       "      <td>...</td>\n",
       "    </tr>\n",
       "    <tr>\n",
       "      <th>82</th>\n",
       "      <td>277.149994</td>\n",
       "      <td>1</td>\n",
       "      <td>0.434783</td>\n",
       "      <td>45.217391</td>\n",
       "    </tr>\n",
       "    <tr>\n",
       "      <th>83</th>\n",
       "      <td>277.549988</td>\n",
       "      <td>1</td>\n",
       "      <td>0.434783</td>\n",
       "      <td>45.652174</td>\n",
       "    </tr>\n",
       "    <tr>\n",
       "      <th>84</th>\n",
       "      <td>264.049988</td>\n",
       "      <td>1</td>\n",
       "      <td>0.434783</td>\n",
       "      <td>46.086957</td>\n",
       "    </tr>\n",
       "    <tr>\n",
       "      <th>85</th>\n",
       "      <td>278.950012</td>\n",
       "      <td>1</td>\n",
       "      <td>0.434783</td>\n",
       "      <td>46.521739</td>\n",
       "    </tr>\n",
       "    <tr>\n",
       "      <th>208</th>\n",
       "      <td>322.700012</td>\n",
       "      <td>1</td>\n",
       "      <td>0.434783</td>\n",
       "      <td>100.000000</td>\n",
       "    </tr>\n",
       "  </tbody>\n",
       "</table>\n",
       "<p>209 rows × 4 columns</p>\n",
       "</div>"
      ],
      "text/plain": [
       "     Unique_Values  Frequency  Relative_Fre  Cumulative\n",
       "0       249.949997          4      1.739130    1.739130\n",
       "1       247.949997          3      1.304348    3.043478\n",
       "10      212.250000          2      0.869565   10.869565\n",
       "17      253.899994          2      0.869565   16.956522\n",
       "16      249.000000          2      0.869565   16.086957\n",
       "..             ...        ...           ...         ...\n",
       "82      277.149994          1      0.434783   45.217391\n",
       "83      277.549988          1      0.434783   45.652174\n",
       "84      264.049988          1      0.434783   46.086957\n",
       "85      278.950012          1      0.434783   46.521739\n",
       "208     322.700012          1      0.434783  100.000000\n",
       "\n",
       "[209 rows x 4 columns]"
      ]
     },
     "execution_count": 31,
     "metadata": {},
     "output_type": "execute_result"
    }
   ],
   "source": [
    "fh.sort_values(by=\"Frequency\",ascending=False)"
   ]
  },
  {
   "cell_type": "code",
   "execution_count": 32,
   "id": "d41edd1e",
   "metadata": {},
   "outputs": [],
   "source": [
    "fhs=fh[fh[\"Frequency\"]==2][\"Unique_Values\"].sort_values(ascending=False)"
   ]
  },
  {
   "cell_type": "code",
   "execution_count": 33,
   "id": "705fdbf1",
   "metadata": {},
   "outputs": [
    {
     "data": {
      "text/plain": [
       "14    286.000000\n",
       "9     279.450012\n",
       "4     261.500000\n",
       "17    253.899994\n",
       "2     251.000000\n",
       "13    249.199997\n",
       "16    249.000000\n",
       "11    247.500000\n",
       "3     247.000000\n",
       "15    227.500000\n",
       "12    213.399994\n",
       "10    212.250000\n",
       "8     211.899994\n",
       "7     210.000000\n",
       "6     208.350006\n",
       "5     204.149994\n",
       "Name: Unique_Values, dtype: float64"
      ]
     },
     "execution_count": 33,
     "metadata": {},
     "output_type": "execute_result"
    }
   ],
   "source": [
    "fhs"
   ]
  },
  {
   "cell_type": "code",
   "execution_count": null,
   "id": "4a9dfa09",
   "metadata": {},
   "outputs": [],
   "source": []
  }
 ],
 "metadata": {
  "kernelspec": {
   "display_name": "Python 3",
   "language": "python",
   "name": "python3"
  },
  "language_info": {
   "codemirror_mode": {
    "name": "ipython",
    "version": 3
   },
   "file_extension": ".py",
   "mimetype": "text/x-python",
   "name": "python",
   "nbconvert_exporter": "python",
   "pygments_lexer": "ipython3",
   "version": "3.7.6"
  }
 },
 "nbformat": 4,
 "nbformat_minor": 5
}
