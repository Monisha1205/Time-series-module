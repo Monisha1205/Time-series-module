{
 "cells": [
  {
   "cell_type": "code",
   "execution_count": 1,
   "id": "4aac1bf9",
   "metadata": {},
   "outputs": [
    {
     "data": {
      "text/html": [
       "<div>\n",
       "<style scoped>\n",
       "    .dataframe tbody tr th:only-of-type {\n",
       "        vertical-align: middle;\n",
       "    }\n",
       "\n",
       "    .dataframe tbody tr th {\n",
       "        vertical-align: top;\n",
       "    }\n",
       "\n",
       "    .dataframe thead th {\n",
       "        text-align: right;\n",
       "    }\n",
       "</style>\n",
       "<table border=\"1\" class=\"dataframe\">\n",
       "  <thead>\n",
       "    <tr style=\"text-align: right;\">\n",
       "      <th></th>\n",
       "      <th>Open</th>\n",
       "      <th>High</th>\n",
       "      <th>Low</th>\n",
       "      <th>Close</th>\n",
       "    </tr>\n",
       "  </thead>\n",
       "  <tbody>\n",
       "    <tr>\n",
       "      <th>0</th>\n",
       "      <td>1410.60</td>\n",
       "      <td>1427.90</td>\n",
       "      <td>1408.30</td>\n",
       "      <td>1415.10</td>\n",
       "    </tr>\n",
       "    <tr>\n",
       "      <th>1</th>\n",
       "      <td>1421.00</td>\n",
       "      <td>1626.60</td>\n",
       "      <td>1416.15</td>\n",
       "      <td>1607.40</td>\n",
       "    </tr>\n",
       "    <tr>\n",
       "      <th>2</th>\n",
       "      <td>1632.55</td>\n",
       "      <td>1673.90</td>\n",
       "      <td>1613.05</td>\n",
       "      <td>1626.20</td>\n",
       "    </tr>\n",
       "    <tr>\n",
       "      <th>3</th>\n",
       "      <td>1627.75</td>\n",
       "      <td>1627.75</td>\n",
       "      <td>1574.60</td>\n",
       "      <td>1579.05</td>\n",
       "    </tr>\n",
       "    <tr>\n",
       "      <th>4</th>\n",
       "      <td>1580.00</td>\n",
       "      <td>1639.50</td>\n",
       "      <td>1565.50</td>\n",
       "      <td>1595.65</td>\n",
       "    </tr>\n",
       "    <tr>\n",
       "      <th>...</th>\n",
       "      <td>...</td>\n",
       "      <td>...</td>\n",
       "      <td>...</td>\n",
       "      <td>...</td>\n",
       "    </tr>\n",
       "    <tr>\n",
       "      <th>2220</th>\n",
       "      <td>202.90</td>\n",
       "      <td>207.80</td>\n",
       "      <td>201.35</td>\n",
       "      <td>205.00</td>\n",
       "    </tr>\n",
       "    <tr>\n",
       "      <th>2221</th>\n",
       "      <td>206.00</td>\n",
       "      <td>206.85</td>\n",
       "      <td>202.05</td>\n",
       "      <td>202.95</td>\n",
       "    </tr>\n",
       "    <tr>\n",
       "      <th>2222</th>\n",
       "      <td>203.90</td>\n",
       "      <td>203.90</td>\n",
       "      <td>199.35</td>\n",
       "      <td>201.00</td>\n",
       "    </tr>\n",
       "    <tr>\n",
       "      <th>2223</th>\n",
       "      <td>200.00</td>\n",
       "      <td>222.00</td>\n",
       "      <td>196.00</td>\n",
       "      <td>218.35</td>\n",
       "    </tr>\n",
       "    <tr>\n",
       "      <th>2224</th>\n",
       "      <td>219.65</td>\n",
       "      <td>220.45</td>\n",
       "      <td>211.55</td>\n",
       "      <td>212.35</td>\n",
       "    </tr>\n",
       "  </tbody>\n",
       "</table>\n",
       "<p>2225 rows × 4 columns</p>\n",
       "</div>"
      ],
      "text/plain": [
       "         Open     High      Low    Close\n",
       "0     1410.60  1427.90  1408.30  1415.10\n",
       "1     1421.00  1626.60  1416.15  1607.40\n",
       "2     1632.55  1673.90  1613.05  1626.20\n",
       "3     1627.75  1627.75  1574.60  1579.05\n",
       "4     1580.00  1639.50  1565.50  1595.65\n",
       "...       ...      ...      ...      ...\n",
       "2220   202.90   207.80   201.35   205.00\n",
       "2221   206.00   206.85   202.05   202.95\n",
       "2222   203.90   203.90   199.35   201.00\n",
       "2223   200.00   222.00   196.00   218.35\n",
       "2224   219.65   220.45   211.55   212.35\n",
       "\n",
       "[2225 rows x 4 columns]"
      ]
     },
     "execution_count": 1,
     "metadata": {},
     "output_type": "execute_result"
    }
   ],
   "source": [
    "import pandas as pd\n",
    "from sklearn.preprocessing import MinMaxScaler\n",
    "from statsmodels.tsa.api import VAR\n",
    "from sklearn.metrics import mean_squared_error, mean_absolute_percentage_error\n",
    "dataset = pd.read_csv(\"Ts-OHLC.csv\")\n",
    "dataset"
   ]
  },
  {
   "cell_type": "code",
   "execution_count": 2,
   "id": "08f6bf76",
   "metadata": {},
   "outputs": [],
   "source": [
    "column = \"Close\""
   ]
  },
  {
   "cell_type": "code",
   "execution_count": 3,
   "id": "74cb9490",
   "metadata": {},
   "outputs": [
    {
     "name": "stdout",
     "output_type": "stream",
     "text": [
      "Len: (2225, 1)\n"
     ]
    }
   ],
   "source": [
    "from sklearn.preprocessing import MinMaxScaler\n",
    "Ms=MinMaxScaler()\n",
    "data1 = Ms.fit_transform(dataset[[column]])\n",
    "print(\"Len:\" , data1.shape)"
   ]
  },
  {
   "cell_type": "code",
   "execution_count": 4,
   "id": "ee95016b",
   "metadata": {},
   "outputs": [
    {
     "name": "stdout",
     "output_type": "stream",
     "text": [
      "2114\n",
      "X_train length: (2114, 1)\n",
      "X_test length: (111, 1)\n",
      "y_train length: (2114, 1)\n",
      "y_test length: (111, 1)\n"
     ]
    }
   ],
   "source": [
    "training_size = round(len(data1) * 0.95)\n",
    "print(training_size)\n",
    "\n",
    "X_train = data1[:training_size]\n",
    "X_test = data1[training_size:]\n",
    "print(\"X_train length:\", X_train.shape)\n",
    "print(\"X_test length:\", X_test.shape)\n",
    "\n",
    "y_train = data1[:training_size]\n",
    "y_test = data1[training_size:]\n",
    "print(\"y_train length:\", y_train.shape)\n",
    "print(\"y_test length:\", y_test.shape)"
   ]
  },
  {
   "cell_type": "code",
   "execution_count": 5,
   "id": "0c5843e4",
   "metadata": {},
   "outputs": [],
   "source": [
    "performance={\"Model\":[],\"RMSE\":[],\"MaPe\":[],\"Lag\":[],\"Test\":[]}"
   ]
  },
  {
   "cell_type": "code",
   "execution_count": 6,
   "id": "91509170",
   "metadata": {},
   "outputs": [
    {
     "data": {
      "text/plain": [
       "array([[1415.1 , 1427.9 , 1410.6 , 1408.3 ],\n",
       "       [1607.4 , 1626.6 , 1421.  , 1416.15],\n",
       "       [1626.2 , 1673.9 , 1632.55, 1613.05],\n",
       "       ...,\n",
       "       [ 201.  ,  203.9 ,  203.9 ,  199.35],\n",
       "       [ 218.35,  222.  ,  200.  ,  196.  ],\n",
       "       [ 212.35,  220.45,  219.65,  211.55]])"
      ]
     },
     "execution_count": 6,
     "metadata": {},
     "output_type": "execute_result"
    }
   ],
   "source": [
    "listt = [\"Close\", \"High\", \"Open\", \"Low\"]\n",
    "datasetTwo = dataset[listt].values \n",
    "datasetTwo"
   ]
  },
  {
   "cell_type": "code",
   "execution_count": 7,
   "id": "f56b7e0f",
   "metadata": {},
   "outputs": [],
   "source": [
    "test_obs = 28\n",
    "train = datasetTwo[:-test_obs]\n",
    "test = datasetTwo[-test_obs:]"
   ]
  },
  {
   "cell_type": "code",
   "execution_count": 8,
   "id": "f4f62b7d",
   "metadata": {},
   "outputs": [
    {
     "data": {
      "text/plain": [
       "array([[1415.1 , 1427.9 , 1410.6 , 1408.3 ],\n",
       "       [1607.4 , 1626.6 , 1421.  , 1416.15],\n",
       "       [1626.2 , 1673.9 , 1632.55, 1613.05],\n",
       "       ...,\n",
       "       [ 225.6 ,  227.8 ,  224.9 ,  222.45],\n",
       "       [ 224.8 ,  229.  ,  227.4 ,  223.25],\n",
       "       [ 228.85,  231.4 ,  227.  ,  226.95]])"
      ]
     },
     "execution_count": 8,
     "metadata": {},
     "output_type": "execute_result"
    }
   ],
   "source": [
    "train"
   ]
  },
  {
   "cell_type": "code",
   "execution_count": 9,
   "id": "f7f4c762",
   "metadata": {},
   "outputs": [
    {
     "data": {
      "text/plain": [
       "array([[225.4 , 231.95, 230.4 , 222.2 ],\n",
       "       [213.85, 225.  , 225.  , 211.7 ],\n",
       "       [217.3 , 219.4 , 211.  , 206.85],\n",
       "       [216.6 , 223.  , 219.35, 215.8 ],\n",
       "       [216.7 , 218.4 , 217.7 , 215.15],\n",
       "       [208.05, 215.25, 215.  , 206.95],\n",
       "       [199.4 , 206.75, 205.35, 192.15],\n",
       "       [202.85, 207.  , 199.95, 199.95],\n",
       "       [204.5 , 208.9 , 204.65, 203.05],\n",
       "       [205.35, 206.  , 205.7 , 203.4 ],\n",
       "       [204.35, 207.8 , 205.  , 203.5 ],\n",
       "       [202.5 , 206.9 , 206.9 , 202.  ],\n",
       "       [212.4 , 214.4 , 207.  , 204.1 ],\n",
       "       [213.5 , 215.8 , 213.  , 210.5 ],\n",
       "       [212.8 , 215.  , 213.5 , 211.25],\n",
       "       [216.45, 219.25, 213.  , 212.1 ],\n",
       "       [214.65, 218.25, 218.25, 213.1 ],\n",
       "       [212.95, 214.7 , 214.7 , 211.65],\n",
       "       [211.1 , 213.9 , 213.9 , 210.  ],\n",
       "       [207.8 , 213.  , 213.  , 207.  ],\n",
       "       [204.25, 208.  , 208.  , 203.05],\n",
       "       [194.55, 200.  , 200.  , 190.3 ],\n",
       "       [199.65, 204.05, 196.  , 196.  ],\n",
       "       [205.  , 207.8 , 202.9 , 201.35],\n",
       "       [202.95, 206.85, 206.  , 202.05],\n",
       "       [201.  , 203.9 , 203.9 , 199.35],\n",
       "       [218.35, 222.  , 200.  , 196.  ],\n",
       "       [212.35, 220.45, 219.65, 211.55]])"
      ]
     },
     "execution_count": 9,
     "metadata": {},
     "output_type": "execute_result"
    }
   ],
   "source": [
    "test"
   ]
  },
  {
   "cell_type": "code",
   "execution_count": 10,
   "id": "50beb766",
   "metadata": {},
   "outputs": [
    {
     "name": "stdout",
     "output_type": "stream",
     "text": [
      "Order = 1\n",
      "AIC:  17.46805661920327\n",
      "BIC:  17.519918120137966\n",
      "\n",
      "Order = 2\n",
      "AIC:  17.144732363091535\n",
      "BIC:  17.238118123327677\n",
      "\n",
      "Order = 3\n",
      "AIC:  17.147708041702938\n",
      "BIC:  17.282649265642515\n",
      "\n",
      "Order = 4\n",
      "AIC:  17.14882729921318\n",
      "BIC:  17.32535522939668\n",
      "\n",
      "Order = 5\n",
      "AIC:  17.11977250561702\n",
      "BIC:  17.337918422787507\n",
      "\n",
      "Order = 6\n",
      "AIC:  17.037619573610925\n",
      "BIC:  17.297414796778224\n",
      "\n",
      "Order = 7\n",
      "AIC:  16.981340530479187\n",
      "BIC:  17.28281641698422\n",
      "\n",
      "Order = 8\n",
      "AIC:  16.985477286455943\n",
      "BIC:  17.32866523203521\n",
      "\n",
      "Order = 9\n",
      "AIC:  16.96932138080675\n",
      "BIC:  17.35425281965693\n",
      "\n",
      "Order = 10\n",
      "AIC:  16.948085953037886\n",
      "BIC:  17.374792357880587\n",
      "\n"
     ]
    }
   ],
   "source": [
    "for i in [1, 2, 3, 4, 5, 6, 7, 8, 9, 10]:\n",
    "        model = VAR(train)\n",
    "        results = model.fit(i)\n",
    "        print('Order =', i)\n",
    "        print('AIC: ', results.aic)\n",
    "        print('BIC: ', results.bic)\n",
    "        print()"
   ]
  },
  {
   "cell_type": "code",
   "execution_count": 11,
   "id": "8b5cb433",
   "metadata": {},
   "outputs": [],
   "source": [
    "x = model.select_order(maxlags=12)\n",
    "order = x.selected_orders[\"aic\"]\n",
    "result = model.fit(order)"
   ]
  },
  {
   "cell_type": "code",
   "execution_count": 12,
   "id": "0d1f521d",
   "metadata": {},
   "outputs": [],
   "source": [
    "lagged_Values = train[-order:]\n",
    "pred = result.forecast(y=lagged_Values, steps=28) \n",
    "preds = pd.DataFrame(pred, columns=listt)\n",
    "preds.to_csv(\"varforecasted_{}.csv\".format(test_obs))"
   ]
  },
  {
   "cell_type": "code",
   "execution_count": 13,
   "id": "89479833",
   "metadata": {},
   "outputs": [],
   "source": [
    "rmse = round(mean_squared_error(test, pred, squared=False))\n",
    "mape = mean_absolute_percentage_error(test, pred)\n",
    "\n",
    "performance[\"Model\"].append(listt)\n",
    "performance[\"RMSE\"].append(rmse)\n",
    "performance[\"MaPe\"].append(mape)\n",
    "performance[\"Lag\"].append(order)\n",
    "performance[\"Test\"].append(test_obs)\n",
    "    \n",
    "perf = pd.DataFrame(performance)"
   ]
  },
  {
   "cell_type": "code",
   "execution_count": 14,
   "id": "6776dce6",
   "metadata": {},
   "outputs": [
    {
     "data": {
      "text/html": [
       "<div>\n",
       "<style scoped>\n",
       "    .dataframe tbody tr th:only-of-type {\n",
       "        vertical-align: middle;\n",
       "    }\n",
       "\n",
       "    .dataframe tbody tr th {\n",
       "        vertical-align: top;\n",
       "    }\n",
       "\n",
       "    .dataframe thead th {\n",
       "        text-align: right;\n",
       "    }\n",
       "</style>\n",
       "<table border=\"1\" class=\"dataframe\">\n",
       "  <thead>\n",
       "    <tr style=\"text-align: right;\">\n",
       "      <th></th>\n",
       "      <th>Model</th>\n",
       "      <th>RMSE</th>\n",
       "      <th>MaPe</th>\n",
       "      <th>Lag</th>\n",
       "      <th>Test</th>\n",
       "    </tr>\n",
       "  </thead>\n",
       "  <tbody>\n",
       "    <tr>\n",
       "      <th>0</th>\n",
       "      <td>[Close, High, Open, Low]</td>\n",
       "      <td>15</td>\n",
       "      <td>0.066959</td>\n",
       "      <td>11</td>\n",
       "      <td>28</td>\n",
       "    </tr>\n",
       "  </tbody>\n",
       "</table>\n",
       "</div>"
      ],
      "text/plain": [
       "                      Model  RMSE      MaPe  Lag  Test\n",
       "0  [Close, High, Open, Low]    15  0.066959   11    28"
      ]
     },
     "execution_count": 14,
     "metadata": {},
     "output_type": "execute_result"
    }
   ],
   "source": [
    "perf"
   ]
  },
  {
   "cell_type": "code",
   "execution_count": null,
   "id": "b99ad8cc",
   "metadata": {},
   "outputs": [],
   "source": []
  }
 ],
 "metadata": {
  "kernelspec": {
   "display_name": "Python 3",
   "language": "python",
   "name": "python3"
  },
  "language_info": {
   "codemirror_mode": {
    "name": "ipython",
    "version": 3
   },
   "file_extension": ".py",
   "mimetype": "text/x-python",
   "name": "python",
   "nbconvert_exporter": "python",
   "pygments_lexer": "ipython3",
   "version": "3.7.6"
  }
 },
 "nbformat": 4,
 "nbformat_minor": 5
}
