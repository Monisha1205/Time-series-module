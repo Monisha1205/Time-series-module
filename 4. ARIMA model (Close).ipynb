{
 "cells": [
  {
   "cell_type": "code",
   "execution_count": 1,
   "id": "b174b6b7",
   "metadata": {},
   "outputs": [
    {
     "data": {
      "text/html": [
       "<div>\n",
       "<style scoped>\n",
       "    .dataframe tbody tr th:only-of-type {\n",
       "        vertical-align: middle;\n",
       "    }\n",
       "\n",
       "    .dataframe tbody tr th {\n",
       "        vertical-align: top;\n",
       "    }\n",
       "\n",
       "    .dataframe thead th {\n",
       "        text-align: right;\n",
       "    }\n",
       "</style>\n",
       "<table border=\"1\" class=\"dataframe\">\n",
       "  <thead>\n",
       "    <tr style=\"text-align: right;\">\n",
       "      <th></th>\n",
       "      <th>Open</th>\n",
       "      <th>High</th>\n",
       "      <th>Low</th>\n",
       "      <th>Close</th>\n",
       "    </tr>\n",
       "  </thead>\n",
       "  <tbody>\n",
       "    <tr>\n",
       "      <th>0</th>\n",
       "      <td>1410.60</td>\n",
       "      <td>1427.90</td>\n",
       "      <td>1408.30</td>\n",
       "      <td>1415.10</td>\n",
       "    </tr>\n",
       "    <tr>\n",
       "      <th>1</th>\n",
       "      <td>1421.00</td>\n",
       "      <td>1626.60</td>\n",
       "      <td>1416.15</td>\n",
       "      <td>1607.40</td>\n",
       "    </tr>\n",
       "    <tr>\n",
       "      <th>2</th>\n",
       "      <td>1632.55</td>\n",
       "      <td>1673.90</td>\n",
       "      <td>1613.05</td>\n",
       "      <td>1626.20</td>\n",
       "    </tr>\n",
       "    <tr>\n",
       "      <th>3</th>\n",
       "      <td>1627.75</td>\n",
       "      <td>1627.75</td>\n",
       "      <td>1574.60</td>\n",
       "      <td>1579.05</td>\n",
       "    </tr>\n",
       "    <tr>\n",
       "      <th>4</th>\n",
       "      <td>1580.00</td>\n",
       "      <td>1639.50</td>\n",
       "      <td>1565.50</td>\n",
       "      <td>1595.65</td>\n",
       "    </tr>\n",
       "    <tr>\n",
       "      <th>...</th>\n",
       "      <td>...</td>\n",
       "      <td>...</td>\n",
       "      <td>...</td>\n",
       "      <td>...</td>\n",
       "    </tr>\n",
       "    <tr>\n",
       "      <th>2220</th>\n",
       "      <td>202.90</td>\n",
       "      <td>207.80</td>\n",
       "      <td>201.35</td>\n",
       "      <td>205.00</td>\n",
       "    </tr>\n",
       "    <tr>\n",
       "      <th>2221</th>\n",
       "      <td>206.00</td>\n",
       "      <td>206.85</td>\n",
       "      <td>202.05</td>\n",
       "      <td>202.95</td>\n",
       "    </tr>\n",
       "    <tr>\n",
       "      <th>2222</th>\n",
       "      <td>203.90</td>\n",
       "      <td>203.90</td>\n",
       "      <td>199.35</td>\n",
       "      <td>201.00</td>\n",
       "    </tr>\n",
       "    <tr>\n",
       "      <th>2223</th>\n",
       "      <td>200.00</td>\n",
       "      <td>222.00</td>\n",
       "      <td>196.00</td>\n",
       "      <td>218.35</td>\n",
       "    </tr>\n",
       "    <tr>\n",
       "      <th>2224</th>\n",
       "      <td>219.65</td>\n",
       "      <td>220.45</td>\n",
       "      <td>211.55</td>\n",
       "      <td>212.35</td>\n",
       "    </tr>\n",
       "  </tbody>\n",
       "</table>\n",
       "<p>2225 rows × 4 columns</p>\n",
       "</div>"
      ],
      "text/plain": [
       "         Open     High      Low    Close\n",
       "0     1410.60  1427.90  1408.30  1415.10\n",
       "1     1421.00  1626.60  1416.15  1607.40\n",
       "2     1632.55  1673.90  1613.05  1626.20\n",
       "3     1627.75  1627.75  1574.60  1579.05\n",
       "4     1580.00  1639.50  1565.50  1595.65\n",
       "...       ...      ...      ...      ...\n",
       "2220   202.90   207.80   201.35   205.00\n",
       "2221   206.00   206.85   202.05   202.95\n",
       "2222   203.90   203.90   199.35   201.00\n",
       "2223   200.00   222.00   196.00   218.35\n",
       "2224   219.65   220.45   211.55   212.35\n",
       "\n",
       "[2225 rows x 4 columns]"
      ]
     },
     "execution_count": 1,
     "metadata": {},
     "output_type": "execute_result"
    }
   ],
   "source": [
    "import pandas as pd\n",
    "dataset = pd.read_csv(\"Ts-OHLC.csv\")\n",
    "dataset"
   ]
  },
  {
   "cell_type": "code",
   "execution_count": 2,
   "id": "183bdc3e",
   "metadata": {},
   "outputs": [],
   "source": [
    "column = \"Close\""
   ]
  },
  {
   "cell_type": "code",
   "execution_count": 3,
   "id": "9f68fa14",
   "metadata": {},
   "outputs": [
    {
     "name": "stdout",
     "output_type": "stream",
     "text": [
      "Len: (2225, 1)\n"
     ]
    }
   ],
   "source": [
    "from sklearn.preprocessing import MinMaxScaler\n",
    "Ms=MinMaxScaler()\n",
    "data1 = Ms.fit_transform(dataset[[column]])\n",
    "print(\"Len:\" , data1.shape)"
   ]
  },
  {
   "cell_type": "code",
   "execution_count": 4,
   "id": "e2e197bf",
   "metadata": {},
   "outputs": [
    {
     "name": "stdout",
     "output_type": "stream",
     "text": [
      "2114\n",
      "X_train length: (2114, 1)\n",
      "X_test length: (111, 1)\n",
      "y_train length: (2114, 1)\n",
      "y_test length: (111, 1)\n"
     ]
    }
   ],
   "source": [
    "training_size = round(len(data1) * 0.95)\n",
    "print(training_size)\n",
    "\n",
    "X_train = data1[:training_size]\n",
    "X_test = data1[training_size:]\n",
    "print(\"X_train length:\", X_train.shape)\n",
    "print(\"X_test length:\", X_test.shape)\n",
    "\n",
    "y_train = data1[:training_size]\n",
    "y_test = data1[training_size:]\n",
    "print(\"y_train length:\", y_train.shape)\n",
    "print(\"y_test length:\", y_test.shape)"
   ]
  },
  {
   "cell_type": "code",
   "execution_count": 5,
   "id": "0a57f53b",
   "metadata": {},
   "outputs": [
    {
     "name": "stderr",
     "output_type": "stream",
     "text": [
      "C:\\Users\\Admin\\anaconda3\\envs\\AIcoures\\lib\\site-packages\\statsmodels\\base\\model.py:606: ConvergenceWarning: Maximum Likelihood optimization failed to converge. Check mle_retvals\n",
      "  ConvergenceWarning)\n"
     ]
    },
    {
     "name": "stdout",
     "output_type": "stream",
     "text": [
      "RMSE-Testset: 0.02288594565997708\n",
      "maPe-Testset: 2377525502.620591\n"
     ]
    },
    {
     "name": "stderr",
     "output_type": "stream",
     "text": [
      "C:\\Users\\Admin\\anaconda3\\envs\\AIcoures\\lib\\site-packages\\statsmodels\\base\\model.py:606: ConvergenceWarning: Maximum Likelihood optimization failed to converge. Check mle_retvals\n",
      "  ConvergenceWarning)\n"
     ]
    },
    {
     "name": "stdout",
     "output_type": "stream",
     "text": [
      "RMSE-Testset: 0.022885202880894368\n",
      "maPe-Testset: 2415748899.181974\n",
      "RMSE-Testset: 0.029668498489485426\n",
      "maPe-Testset: 1993058418.3047612\n",
      "RMSE-Testset: 0.02390705206041093\n",
      "maPe-Testset: 2101158968.7326317\n"
     ]
    }
   ],
   "source": [
    "orders=[(1,1,1),(1,1,2),(2,3,1),(2,2,2)]\n",
    "#orderslist=[]\n",
    "#rscorelist=[]\n",
    "for i in orders:\n",
    "    #orderslist.append(i)\n",
    "    from statsmodels.tsa.arima.model import ARIMA\n",
    "    model = ARIMA(data1, order=i)\n",
    "    model_fit = model.fit()\n",
    "    # make prediction\n",
    "    y_pred= model_fit.predict(0, len(data1)-1)\n",
    "    #print(y_pred)\n",
    "    from stockFunctions import rmsemape\n",
    "    rmsemape(data1,y_pred)"
   ]
  },
  {
   "cell_type": "code",
   "execution_count": 6,
   "id": "07d032c1",
   "metadata": {},
   "outputs": [
    {
     "data": {
      "image/png": "[encoded data removed]",
      "text/plain": [
       "<Figure size 720x360 with 1 Axes>"
      ]
     },
     "metadata": {
      "needs_background": "light"
     },
     "output_type": "display_data"
    }
   ],
   "source": [
    "from stockFunctions import graph\n",
    "graph(data1,y_pred,\"Actual\",\"Predicted\",\"TataCoffee-Close\",\"Days\",\"Prices\")"
   ]
  },
  {
   "cell_type": "code",
   "execution_count": 7,
   "id": "7d9548d0",
   "metadata": {},
   "outputs": [],
   "source": [
    "from stockFunctions import conversionSingle\n",
    "aTestNormTable=conversionSingle(data1,[\"Close\"])\n",
    "actual_stock_price_test_ori=Ms.inverse_transform(aTestNormTable)\n",
    "actual_stock_price_test_oriA=conversionSingle(actual_stock_price_test_ori,[\"Close\"])"
   ]
  },
  {
   "cell_type": "code",
   "execution_count": 8,
   "id": "3193cec7",
   "metadata": {},
   "outputs": [],
   "source": [
    "from stockFunctions import conversionSingle\n",
    "pTestNormTable=conversionSingle(y_pred,[\"Close\"])\n",
    "predicted_stock_price_test_ori=Ms.inverse_transform(pTestNormTable)\n",
    "predicted_stock_price_test_oriP=conversionSingle(predicted_stock_price_test_ori,[\"Close\"])"
   ]
  },
  {
   "cell_type": "code",
   "execution_count": 9,
   "id": "2b770b80",
   "metadata": {},
   "outputs": [
    {
     "data": {
      "image/png": "[encoded data removed]",
      "text/plain": [
       "<Figure size 720x360 with 1 Axes>"
      ]
     },
     "metadata": {
      "needs_background": "light"
     },
     "output_type": "display_data"
    }
   ],
   "source": [
    "from stockFunctions import graph\n",
    "graph(actual_stock_price_test_oriA,predicted_stock_price_test_oriP,\"Actual\",\"Predicted\",\"TataCoffee-CLose\",\"Days\",\"Prices\")"
   ]
  },
  {
   "cell_type": "code",
   "execution_count": 10,
   "id": "f345c1f0",
   "metadata": {},
   "outputs": [
    {
     "name": "stdout",
     "output_type": "stream",
     "text": [
      "RMSE-Testset: 38.222594834184996\n",
      "maPe-Testset: 0.022449597007654695\n"
     ]
    }
   ],
   "source": [
    "from stockFunctions import rmsemape\n",
    "rmsemape(actual_stock_price_test_oriA,predicted_stock_price_test_oriP)"
   ]
  },
  {
   "cell_type": "code",
   "execution_count": 11,
   "id": "b3d67ba9",
   "metadata": {},
   "outputs": [],
   "source": [
    "forecast=model_fit.predict(len(data1), len(data1)+200)"
   ]
  },
  {
   "cell_type": "code",
   "execution_count": 12,
   "id": "384b015d",
   "metadata": {},
   "outputs": [
    {
     "data": {
      "text/plain": [
       "array([0.10218966, 0.1018375 , 0.10222174, 0.10191134, 0.10226263,\n",
       "       0.1019839 , 0.10230505, 0.10205503, 0.10234884, 0.10212484,\n",
       "       0.10239388, 0.10219347, 0.10244005, 0.10226102, 0.10248724,\n",
       "       0.1023276 , 0.10253535, 0.1023933 , 0.10258431, 0.10245819,\n",
       "       0.10263403, 0.10252236, 0.10268444, 0.10258588, 0.10273548,\n",
       "       0.10264879, 0.10278709, 0.10271116, 0.10283921, 0.10277305,\n",
       "       0.1028918 , 0.10283448, 0.10294482, 0.10289552, 0.10299821,\n",
       "       0.10295619, 0.10305196, 0.10301653, 0.10310602, 0.10307656,\n",
       "       0.10316036, 0.10313633, 0.10321497, 0.10319585, 0.10326981,\n",
       "       0.10325514, 0.10332486, 0.10331423, 0.10338011, 0.10337314,\n",
       "       0.10343553, 0.10343188, 0.10349111, 0.10349047, 0.10354684,\n",
       "       0.10354892, 0.10360269, 0.10360725, 0.10365867, 0.10366547,\n",
       "       0.10371475, 0.10372358, 0.10377093, 0.1037816 , 0.10382719,\n",
       "       0.10383954, 0.10388354, 0.1038974 , 0.10393996, 0.10395519,\n",
       "       0.10399644, 0.10401292, 0.10405299, 0.10407059, 0.10410958,\n",
       "       0.10412822, 0.10416623, 0.10418579, 0.10422292, 0.10424332,\n",
       "       0.10427965, 0.10430082, 0.10433642, 0.10435828, 0.10439322,\n",
       "       0.1044157 , 0.10445006, 0.1044731 , 0.10450691, 0.10453048,\n",
       "       0.1045638 , 0.10458783, 0.1046207 , 0.10464516, 0.10467763,\n",
       "       0.10470246, 0.10473457, 0.10475976, 0.10479153, 0.10481703,\n",
       "       0.10484851, 0.10487429, 0.1049055 , 0.10493154, 0.1049625 ,\n",
       "       0.10498878, 0.10501951, 0.10504601, 0.10507654, 0.10510322,\n",
       "       0.10513357, 0.10516043, 0.10519061, 0.10521763, 0.10524766,\n",
       "       0.10527482, 0.10530471, 0.10533201, 0.10536177, 0.10538919,\n",
       "       0.10541884, 0.10544636, 0.10547591, 0.10550353, 0.10553299,\n",
       "       0.1055607 , 0.10559007, 0.10561786, 0.10564716, 0.10567502,\n",
       "       0.10570425, 0.10573217, 0.10576134, 0.10578932, 0.10581843,\n",
       "       0.10584647, 0.10587553, 0.10590362, 0.10593263, 0.10596076,\n",
       "       0.10598973, 0.1060179 , 0.10604683, 0.10607504, 0.10610394,\n",
       "       0.10613218, 0.10616105, 0.10618932, 0.10621815, 0.10624645,\n",
       "       0.10627526, 0.10630359, 0.10633237, 0.10636072, 0.10638949,\n",
       "       0.10641785, 0.1064466 , 0.10647498, 0.10650371, 0.10653211,\n",
       "       0.10656083, 0.10658924, 0.10661794, 0.10664637, 0.10667506,\n",
       "       0.1067035 , 0.10673217, 0.10676063, 0.10678929, 0.10681775,\n",
       "       0.10684641, 0.10687488, 0.10690353, 0.10693201, 0.10696065,\n",
       "       0.10698913, 0.10701776, 0.10704626, 0.10707488, 0.10710338,\n",
       "       0.107132  , 0.10716051, 0.10718912, 0.10721763, 0.10724624,\n",
       "       0.10727476, 0.10730336, 0.10733188, 0.10736048, 0.10738901,\n",
       "       0.1074176 , 0.10744613, 0.10747472, 0.10750325, 0.10753184,\n",
       "       0.10756038, 0.10758896, 0.1076175 , 0.10764609, 0.10767462,\n",
       "       0.10770321])"
      ]
     },
     "execution_count": 12,
     "metadata": {},
     "output_type": "execute_result"
    }
   ],
   "source": [
    "forecast"
   ]
  },
  {
   "cell_type": "code",
   "execution_count": 13,
   "id": "c7e2ebf0",
   "metadata": {},
   "outputs": [],
   "source": [
    "from stockFunctions import conversionSingle\n",
    "fTestNormTable=conversionSingle(forecast,[\"Closefore\"])\n",
    "forecast_stock_price_test_ori=Ms.inverse_transform(fTestNormTable)\n",
    "forecast_stock_price_test_oriF=conversionSingle(forecast_stock_price_test_ori,[\"Closefore\"])"
   ]
  },
  {
   "cell_type": "code",
   "execution_count": 14,
   "id": "b61ce01e",
   "metadata": {},
   "outputs": [],
   "source": [
    "forecast_stock_price_test_oriF.to_csv(\"Closets.csv\",index=False)"
   ]
  },
  {
   "cell_type": "code",
   "execution_count": 15,
   "id": "85ff0d58",
   "metadata": {},
   "outputs": [
    {
     "data": {
      "text/html": [
       "<div>\n",
       "<style scoped>\n",
       "    .dataframe tbody tr th:only-of-type {\n",
       "        vertical-align: middle;\n",
       "    }\n",
       "\n",
       "    .dataframe tbody tr th {\n",
       "        vertical-align: top;\n",
       "    }\n",
       "\n",
       "    .dataframe thead th {\n",
       "        text-align: right;\n",
       "    }\n",
       "</style>\n",
       "<table border=\"1\" class=\"dataframe\">\n",
       "  <thead>\n",
       "    <tr style=\"text-align: right;\">\n",
       "      <th></th>\n",
       "      <th>Closefore</th>\n",
       "    </tr>\n",
       "  </thead>\n",
       "  <tbody>\n",
       "    <tr>\n",
       "      <th>0</th>\n",
       "      <td>212.780821</td>\n",
       "    </tr>\n",
       "    <tr>\n",
       "      <th>1</th>\n",
       "      <td>212.217802</td>\n",
       "    </tr>\n",
       "    <tr>\n",
       "      <th>2</th>\n",
       "      <td>212.832124</td>\n",
       "    </tr>\n",
       "    <tr>\n",
       "      <th>3</th>\n",
       "      <td>212.335848</td>\n",
       "    </tr>\n",
       "    <tr>\n",
       "      <th>4</th>\n",
       "      <td>212.897497</td>\n",
       "    </tr>\n",
       "    <tr>\n",
       "      <th>...</th>\n",
       "      <td>...</td>\n",
       "    </tr>\n",
       "    <tr>\n",
       "      <th>196</th>\n",
       "      <td>221.413237</td>\n",
       "    </tr>\n",
       "    <tr>\n",
       "      <th>197</th>\n",
       "      <td>221.45886</td>\n",
       "    </tr>\n",
       "    <tr>\n",
       "      <th>198</th>\n",
       "      <td>221.504562</td>\n",
       "    </tr>\n",
       "    <tr>\n",
       "      <th>199</th>\n",
       "      <td>221.550189</td>\n",
       "    </tr>\n",
       "    <tr>\n",
       "      <th>200</th>\n",
       "      <td>221.595887</td>\n",
       "    </tr>\n",
       "  </tbody>\n",
       "</table>\n",
       "<p>201 rows × 1 columns</p>\n",
       "</div>"
      ],
      "text/plain": [
       "      Closefore\n",
       "0    212.780821\n",
       "1    212.217802\n",
       "2    212.832124\n",
       "3    212.335848\n",
       "4    212.897497\n",
       "..          ...\n",
       "196  221.413237\n",
       "197   221.45886\n",
       "198  221.504562\n",
       "199  221.550189\n",
       "200  221.595887\n",
       "\n",
       "[201 rows x 1 columns]"
      ]
     },
     "execution_count": 15,
     "metadata": {},
     "output_type": "execute_result"
    }
   ],
   "source": [
    "forecast_stock_price_test_oriF"
   ]
  },
  {
   "cell_type": "code",
   "execution_count": null,
   "id": "76f90d61",
   "metadata": {},
   "outputs": [],
   "source": []
  }
 ],
 "metadata": {
  "kernelspec": {
   "display_name": "Python 3",
   "language": "python",
   "name": "python3"
  },
  "language_info": {
   "codemirror_mode": {
    "name": "ipython",
    "version": 3
   },
   "file_extension": ".py",
   "mimetype": "text/x-python",
   "name": "python",
   "nbconvert_exporter": "python",
   "pygments_lexer": "ipython3",
   "version": "3.7.6"
  }
 },
 "nbformat": 4,
 "nbformat_minor": 5
}
