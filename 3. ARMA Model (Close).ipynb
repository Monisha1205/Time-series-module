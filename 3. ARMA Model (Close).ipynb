{
 "cells": [
  {
   "cell_type": "code",
   "execution_count": 1,
   "id": "8e3effc1",
   "metadata": {},
   "outputs": [
    {
     "data": {
      "text/html": [
       "<div>\n",
       "<style scoped>\n",
       "    .dataframe tbody tr th:only-of-type {\n",
       "        vertical-align: middle;\n",
       "    }\n",
       "\n",
       "    .dataframe tbody tr th {\n",
       "        vertical-align: top;\n",
       "    }\n",
       "\n",
       "    .dataframe thead th {\n",
       "        text-align: right;\n",
       "    }\n",
       "</style>\n",
       "<table border=\"1\" class=\"dataframe\">\n",
       "  <thead>\n",
       "    <tr style=\"text-align: right;\">\n",
       "      <th></th>\n",
       "      <th>Open</th>\n",
       "      <th>High</th>\n",
       "      <th>Low</th>\n",
       "      <th>Close</th>\n",
       "    </tr>\n",
       "  </thead>\n",
       "  <tbody>\n",
       "    <tr>\n",
       "      <th>0</th>\n",
       "      <td>1410.60</td>\n",
       "      <td>1427.90</td>\n",
       "      <td>1408.30</td>\n",
       "      <td>1415.10</td>\n",
       "    </tr>\n",
       "    <tr>\n",
       "      <th>1</th>\n",
       "      <td>1421.00</td>\n",
       "      <td>1626.60</td>\n",
       "      <td>1416.15</td>\n",
       "      <td>1607.40</td>\n",
       "    </tr>\n",
       "    <tr>\n",
       "      <th>2</th>\n",
       "      <td>1632.55</td>\n",
       "      <td>1673.90</td>\n",
       "      <td>1613.05</td>\n",
       "      <td>1626.20</td>\n",
       "    </tr>\n",
       "    <tr>\n",
       "      <th>3</th>\n",
       "      <td>1627.75</td>\n",
       "      <td>1627.75</td>\n",
       "      <td>1574.60</td>\n",
       "      <td>1579.05</td>\n",
       "    </tr>\n",
       "    <tr>\n",
       "      <th>4</th>\n",
       "      <td>1580.00</td>\n",
       "      <td>1639.50</td>\n",
       "      <td>1565.50</td>\n",
       "      <td>1595.65</td>\n",
       "    </tr>\n",
       "    <tr>\n",
       "      <th>...</th>\n",
       "      <td>...</td>\n",
       "      <td>...</td>\n",
       "      <td>...</td>\n",
       "      <td>...</td>\n",
       "    </tr>\n",
       "    <tr>\n",
       "      <th>2220</th>\n",
       "      <td>202.90</td>\n",
       "      <td>207.80</td>\n",
       "      <td>201.35</td>\n",
       "      <td>205.00</td>\n",
       "    </tr>\n",
       "    <tr>\n",
       "      <th>2221</th>\n",
       "      <td>206.00</td>\n",
       "      <td>206.85</td>\n",
       "      <td>202.05</td>\n",
       "      <td>202.95</td>\n",
       "    </tr>\n",
       "    <tr>\n",
       "      <th>2222</th>\n",
       "      <td>203.90</td>\n",
       "      <td>203.90</td>\n",
       "      <td>199.35</td>\n",
       "      <td>201.00</td>\n",
       "    </tr>\n",
       "    <tr>\n",
       "      <th>2223</th>\n",
       "      <td>200.00</td>\n",
       "      <td>222.00</td>\n",
       "      <td>196.00</td>\n",
       "      <td>218.35</td>\n",
       "    </tr>\n",
       "    <tr>\n",
       "      <th>2224</th>\n",
       "      <td>219.65</td>\n",
       "      <td>220.45</td>\n",
       "      <td>211.55</td>\n",
       "      <td>212.35</td>\n",
       "    </tr>\n",
       "  </tbody>\n",
       "</table>\n",
       "<p>2225 rows × 4 columns</p>\n",
       "</div>"
      ],
      "text/plain": [
       "         Open     High      Low    Close\n",
       "0     1410.60  1427.90  1408.30  1415.10\n",
       "1     1421.00  1626.60  1416.15  1607.40\n",
       "2     1632.55  1673.90  1613.05  1626.20\n",
       "3     1627.75  1627.75  1574.60  1579.05\n",
       "4     1580.00  1639.50  1565.50  1595.65\n",
       "...       ...      ...      ...      ...\n",
       "2220   202.90   207.80   201.35   205.00\n",
       "2221   206.00   206.85   202.05   202.95\n",
       "2222   203.90   203.90   199.35   201.00\n",
       "2223   200.00   222.00   196.00   218.35\n",
       "2224   219.65   220.45   211.55   212.35\n",
       "\n",
       "[2225 rows x 4 columns]"
      ]
     },
     "execution_count": 1,
     "metadata": {},
     "output_type": "execute_result"
    }
   ],
   "source": [
    "import pandas as pd\n",
    "dataset = pd.read_csv(\"Ts-OHLC.csv\")\n",
    "dataset"
   ]
  },
  {
   "cell_type": "code",
   "execution_count": 2,
   "id": "297ec5b5",
   "metadata": {},
   "outputs": [],
   "source": [
    "column = \"Close\""
   ]
  },
  {
   "cell_type": "code",
   "execution_count": 3,
   "id": "fd305042",
   "metadata": {},
   "outputs": [
    {
     "name": "stdout",
     "output_type": "stream",
     "text": [
      "Len: (2225, 1)\n"
     ]
    }
   ],
   "source": [
    "from sklearn.preprocessing import MinMaxScaler\n",
    "Ms=MinMaxScaler()\n",
    "data1 = Ms.fit_transform(dataset[[column]])\n",
    "print(\"Len:\" , data1.shape)"
   ]
  },
  {
   "cell_type": "code",
   "execution_count": 4,
   "id": "7cd1d672",
   "metadata": {},
   "outputs": [
    {
     "name": "stdout",
     "output_type": "stream",
     "text": [
      "2114\n",
      "X_train length: (2114, 1)\n",
      "X_test length: (111, 1)\n",
      "y_train length: (2114, 1)\n",
      "y_test length: (111, 1)\n"
     ]
    }
   ],
   "source": [
    "training_size = round(len(data1) * 0.95)\n",
    "print(training_size)\n",
    "\n",
    "X_train = data1[:training_size]\n",
    "X_test = data1[training_size:]\n",
    "print(\"X_train length:\", X_train.shape)\n",
    "print(\"X_test length:\", X_test.shape)\n",
    "\n",
    "y_train = data1[:training_size]\n",
    "y_test = data1[training_size:]\n",
    "print(\"y_train length:\", y_train.shape)\n",
    "print(\"y_test length:\", y_test.shape)"
   ]
  },
  {
   "cell_type": "code",
   "execution_count": 5,
   "id": "5869b008",
   "metadata": {},
   "outputs": [
    {
     "name": "stdout",
     "output_type": "stream",
     "text": [
      "RMSE-Testset: 0.019965521884646877\n",
      "maPe-Testset: 3594911186.748822\n",
      "RMSE-Testset: 0.019966131106525013\n",
      "maPe-Testset: 3599256534.347733\n",
      "RMSE-Testset: 0.019965914240552884\n",
      "maPe-Testset: 3566218263.1470942\n",
      "RMSE-Testset: 0.019966131106525013\n",
      "maPe-Testset: 3599256534.347733\n"
     ]
    }
   ],
   "source": [
    "orders=[(1,0,2),(1,0,1),(2,0,1),(1,0,1)]\n",
    "#orderslist=[]\n",
    "#rscorelist=[]\n",
    "for i in orders:\n",
    "    #orderslist.append(i)\n",
    "    from statsmodels.tsa.arima.model import ARIMA\n",
    "    model = ARIMA(data1, order=i)\n",
    "    model_fit = model.fit()\n",
    "    # make prediction\n",
    "    y_pred= model_fit.predict(0, len(data1)-1)\n",
    "    #print(y_pred)\n",
    "    from stockFunctions import rmsemape\n",
    "    rmsemape(data1,y_pred)"
   ]
  },
  {
   "cell_type": "code",
   "execution_count": 6,
   "id": "be2e403e",
   "metadata": {},
   "outputs": [
    {
     "data": {
      "image/png": "[encoded data removed]",
      "text/plain": [
       "<Figure size 720x360 with 1 Axes>"
      ]
     },
     "metadata": {
      "needs_background": "light"
     },
     "output_type": "display_data"
    }
   ],
   "source": [
    "from stockFunctions import graph\n",
    "graph(data1,y_pred,\"Actual\",\"Predicted\",\"TataCoffee-Close\",\"Days\",\"Prices\")"
   ]
  },
  {
   "cell_type": "code",
   "execution_count": 7,
   "id": "4622c6fc",
   "metadata": {},
   "outputs": [],
   "source": [
    "from stockFunctions import conversionSingle\n",
    "aTestNormTable=conversionSingle(data1,[\"Close\"])\n",
    "actual_stock_price_test_ori=Ms.inverse_transform(aTestNormTable)\n",
    "actual_stock_price_test_oriA=conversionSingle(actual_stock_price_test_ori,[\"Close\"])"
   ]
  },
  {
   "cell_type": "code",
   "execution_count": 8,
   "id": "69a2c595",
   "metadata": {},
   "outputs": [],
   "source": [
    "from stockFunctions import conversionSingle\n",
    "pTestNormTable=conversionSingle(y_pred,[\"Close\"])\n",
    "predicted_stock_price_test_ori=Ms.inverse_transform(pTestNormTable)\n",
    "predicted_stock_price_test_oriP=conversionSingle(predicted_stock_price_test_ori,[\"Close\"])"
   ]
  },
  {
   "cell_type": "code",
   "execution_count": 9,
   "id": "171a0f2a",
   "metadata": {},
   "outputs": [
    {
     "data": {
      "image/png": "[encoded data removed]",
      "text/plain": [
       "<Figure size 720x360 with 1 Axes>"
      ]
     },
     "metadata": {
      "needs_background": "light"
     },
     "output_type": "display_data"
    }
   ],
   "source": [
    "from stockFunctions import graph\n",
    "graph(actual_stock_price_test_oriA,predicted_stock_price_test_oriP,\"Actual\",\"Predicted\",\"TataCoffee-CLose\",\"Days\",\"Prices\")"
   ]
  },
  {
   "cell_type": "code",
   "execution_count": 10,
   "id": "9036496c",
   "metadata": {},
   "outputs": [
    {
     "name": "stdout",
     "output_type": "stream",
     "text": [
      "RMSE-Testset: 31.92185041311219\n",
      "maPe-Testset: 0.020860807199032164\n"
     ]
    }
   ],
   "source": [
    "from stockFunctions import rmsemape\n",
    "rmsemape(actual_stock_price_test_oriA,predicted_stock_price_test_oriP)"
   ]
  },
  {
   "cell_type": "code",
   "execution_count": 11,
   "id": "5fd2643f",
   "metadata": {},
   "outputs": [],
   "source": [
    "forecast=model_fit.predict(len(data1), len(data1)+200)"
   ]
  },
  {
   "cell_type": "code",
   "execution_count": 12,
   "id": "25642702",
   "metadata": {},
   "outputs": [
    {
     "data": {
      "text/plain": [
       "array([0.10199764, 0.10227282, 0.10254704, 0.10282032, 0.10309265,\n",
       "       0.10336403, 0.10363448, 0.103904  , 0.10417258, 0.10444024,\n",
       "       0.10470696, 0.10497277, 0.10523766, 0.10550163, 0.10576468,\n",
       "       0.10602683, 0.10628807, 0.10654841, 0.10680785, 0.10706639,\n",
       "       0.10732404, 0.10758079, 0.10783666, 0.10809165, 0.10834575,\n",
       "       0.10859897, 0.10885132, 0.10910279, 0.1093534 , 0.10960313,\n",
       "       0.10985201, 0.11010002, 0.11034718, 0.11059348, 0.11083893,\n",
       "       0.11108353, 0.11132728, 0.1115702 , 0.11181227, 0.1120535 ,\n",
       "       0.1122939 , 0.11253347, 0.11277222, 0.11301013, 0.11324722,\n",
       "       0.1134835 , 0.11371895, 0.11395359, 0.11418742, 0.11442045,\n",
       "       0.11465266, 0.11488407, 0.11511469, 0.1153445 , 0.11557352,\n",
       "       0.11580175, 0.11602919, 0.11625584, 0.11648171, 0.1167068 ,\n",
       "       0.11693111, 0.11715464, 0.1173774 , 0.11759939, 0.11782061,\n",
       "       0.11804107, 0.11826077, 0.1184797 , 0.11869788, 0.11891531,\n",
       "       0.11913198, 0.1193479 , 0.11956308, 0.11977751, 0.1199912 ,\n",
       "       0.12020415, 0.12041637, 0.12062785, 0.1208386 , 0.12104862,\n",
       "       0.12125791, 0.12146648, 0.12167433, 0.12188146, 0.12208788,\n",
       "       0.12229358, 0.12249857, 0.12270285, 0.12290643, 0.1231093 ,\n",
       "       0.12331146, 0.12351293, 0.12371371, 0.12391379, 0.12411317,\n",
       "       0.12431187, 0.12450988, 0.12470721, 0.12490385, 0.12509981,\n",
       "       0.1252951 , 0.12548971, 0.12568364, 0.12587691, 0.12606951,\n",
       "       0.12626144, 0.12645271, 0.12664332, 0.12683326, 0.12702256,\n",
       "       0.12721119, 0.12739918, 0.12758651, 0.1277732 , 0.12795924,\n",
       "       0.12814463, 0.12832939, 0.12851351, 0.12869699, 0.12887983,\n",
       "       0.12906205, 0.12924363, 0.12942459, 0.12960492, 0.12978462,\n",
       "       0.12996371, 0.13014217, 0.13032002, 0.13049726, 0.13067388,\n",
       "       0.13084989, 0.13102529, 0.13120008, 0.13137427, 0.13154786,\n",
       "       0.13172085, 0.13189324, 0.13206503, 0.13223623, 0.13240684,\n",
       "       0.13257685, 0.13274628, 0.13291513, 0.13308339, 0.13325106,\n",
       "       0.13341816, 0.13358468, 0.13375062, 0.13391599, 0.13408079,\n",
       "       0.13424502, 0.13440868, 0.13457178, 0.13473431, 0.13489627,\n",
       "       0.13505768, 0.13521853, 0.13537883, 0.13553857, 0.13569775,\n",
       "       0.13585639, 0.13601448, 0.13617202, 0.13632902, 0.13648547,\n",
       "       0.13664138, 0.13679676, 0.13695159, 0.13710589, 0.13725966,\n",
       "       0.1374129 , 0.1375656 , 0.13771778, 0.13786943, 0.13802056,\n",
       "       0.13817116, 0.13832125, 0.13847081, 0.13861986, 0.13876839,\n",
       "       0.13891641, 0.13906391, 0.13921091, 0.1393574 , 0.13950338,\n",
       "       0.13964886, 0.13979383, 0.1399383 , 0.14008228, 0.14022575,\n",
       "       0.14036873, 0.14051121, 0.1406532 , 0.1407947 , 0.14093572,\n",
       "       0.14107624, 0.14121628, 0.14135583, 0.1414949 , 0.14163349,\n",
       "       0.1417716 ])"
      ]
     },
     "execution_count": 12,
     "metadata": {},
     "output_type": "execute_result"
    }
   ],
   "source": [
    "forecast"
   ]
  },
  {
   "cell_type": "code",
   "execution_count": 13,
   "id": "f6a700e8",
   "metadata": {},
   "outputs": [],
   "source": [
    "from stockFunctions import conversionSingle\n",
    "fTestNormTable=conversionSingle(forecast,[\"Closefore\"])\n",
    "forecast_stock_price_test_ori=Ms.inverse_transform(fTestNormTable)\n",
    "forecast_stock_price_test_oriF=conversionSingle(forecast_stock_price_test_ori,[\"Closefore\"])"
   ]
  },
  {
   "cell_type": "code",
   "execution_count": 14,
   "id": "c05bb685",
   "metadata": {},
   "outputs": [],
   "source": [
    "forecast_stock_price_test_oriF.to_csv(\"Closets.csv\",index=False)"
   ]
  },
  {
   "cell_type": "code",
   "execution_count": 15,
   "id": "198d84d3",
   "metadata": {},
   "outputs": [
    {
     "data": {
      "text/html": [
       "<div>\n",
       "<style scoped>\n",
       "    .dataframe tbody tr th:only-of-type {\n",
       "        vertical-align: middle;\n",
       "    }\n",
       "\n",
       "    .dataframe tbody tr th {\n",
       "        vertical-align: top;\n",
       "    }\n",
       "\n",
       "    .dataframe thead th {\n",
       "        text-align: right;\n",
       "    }\n",
       "</style>\n",
       "<table border=\"1\" class=\"dataframe\">\n",
       "  <thead>\n",
       "    <tr style=\"text-align: right;\">\n",
       "      <th></th>\n",
       "      <th>Closefore</th>\n",
       "    </tr>\n",
       "  </thead>\n",
       "  <tbody>\n",
       "    <tr>\n",
       "      <th>0</th>\n",
       "      <td>212.473832</td>\n",
       "    </tr>\n",
       "    <tr>\n",
       "      <th>1</th>\n",
       "      <td>212.913781</td>\n",
       "    </tr>\n",
       "    <tr>\n",
       "      <th>2</th>\n",
       "      <td>213.35221</td>\n",
       "    </tr>\n",
       "    <tr>\n",
       "      <th>3</th>\n",
       "      <td>213.789122</td>\n",
       "    </tr>\n",
       "    <tr>\n",
       "      <th>4</th>\n",
       "      <td>214.224523</td>\n",
       "    </tr>\n",
       "    <tr>\n",
       "      <th>...</th>\n",
       "      <td>...</td>\n",
       "    </tr>\n",
       "    <tr>\n",
       "      <th>196</th>\n",
       "      <td>275.176582</td>\n",
       "    </tr>\n",
       "    <tr>\n",
       "      <th>197</th>\n",
       "      <td>275.399699</td>\n",
       "    </tr>\n",
       "    <tr>\n",
       "      <th>198</th>\n",
       "      <td>275.622046</td>\n",
       "    </tr>\n",
       "    <tr>\n",
       "      <th>199</th>\n",
       "      <td>275.843623</td>\n",
       "    </tr>\n",
       "    <tr>\n",
       "      <th>200</th>\n",
       "      <td>276.064434</td>\n",
       "    </tr>\n",
       "  </tbody>\n",
       "</table>\n",
       "<p>201 rows × 1 columns</p>\n",
       "</div>"
      ],
      "text/plain": [
       "      Closefore\n",
       "0    212.473832\n",
       "1    212.913781\n",
       "2     213.35221\n",
       "3    213.789122\n",
       "4    214.224523\n",
       "..          ...\n",
       "196  275.176582\n",
       "197  275.399699\n",
       "198  275.622046\n",
       "199  275.843623\n",
       "200  276.064434\n",
       "\n",
       "[201 rows x 1 columns]"
      ]
     },
     "execution_count": 15,
     "metadata": {},
     "output_type": "execute_result"
    }
   ],
   "source": [
    "forecast_stock_price_test_oriF"
   ]
  },
  {
   "cell_type": "code",
   "execution_count": null,
   "id": "0672765e",
   "metadata": {},
   "outputs": [],
   "source": []
  }
 ],
 "metadata": {
  "kernelspec": {
   "display_name": "Python 3",
   "language": "python",
   "name": "python3"
  },
  "language_info": {
   "codemirror_mode": {
    "name": "ipython",
    "version": 3
   },
   "file_extension": ".py",
   "mimetype": "text/x-python",
   "name": "python",
   "nbconvert_exporter": "python",
   "pygments_lexer": "ipython3",
   "version": "3.7.6"
  }
 },
 "nbformat": 4,
 "nbformat_minor": 5
}
